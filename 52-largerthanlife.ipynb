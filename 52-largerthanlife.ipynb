{
 "metadata": {
  "name": ""
 },
 "nbformat": 3,
 "nbformat_minor": 0,
 "worksheets": [
  {
   "cells": [
    {
     "cell_type": "markdown",
     "metadata": {},
     "source": [
      "(#MN: forked from http://nbviewer.ipython.org/github/tmbdev/teaching-simso/blob/master/52-largerthanlife.ipynb )"
     ]
    },
    {
     "cell_type": "code",
     "collapsed": false,
     "input": [
      "\n",
      "from pylab import *\n",
      "from scipy.ndimage import filters,measurements\n",
      "import pygame\n",
      "from pygame import surfarray\n",
      "matplotlib.rc(\"image\",cmap=\"gray\")\n",
      "matplotlib.rc(\"image\",interpolation=\"nearest\")\n",
      "pygame.init()\n",
      "OR = logical_or\n",
      "AND = logical_and\n",
      "def unif(lo,hi,size=1):\n",
      "    if size==1: return rand()*(hi-lo)+lo\n",
      "    if type(size)==int: return rand(size)*(hi-lo)+lo\n",
      "    return rand(*size)*(hi-lo)+lo"
     ],
     "language": "python",
     "metadata": {},
     "outputs": [],
     "prompt_number": 1
    },
    {
     "cell_type": "code",
     "collapsed": false,
     "input": [
      "\n",
      "w,h = 512,512\n",
      "screen = pygame.display.set_mode((w,h))\n",
      "surface = pygame.Surface((w,h),depth=8)\n",
      "\n",
      "def animate(images,n=20):\n",
      "    for i,image in enumerate(images):\n",
      "        if i>=n: break\n",
      "        b = array(255*clip(image,0,1),'B')\n",
      "        pygame.surfarray.blit_array(surface,b[:w,:h])\n",
      "        screen.blit(surface,(0,0))\n",
      "        pygame.display.flip()\n",
      "    return image\n",
      "\n",
      "def random(p):\n",
      "    return 1.0*(rand(w,h)<p)\n",
      "\n",
      "def iterate(f,a,n=100000):\n",
      "    for i in range(n):\n",
      "        yield a\n",
      "        a = f(a)\n",
      "    yield a"
     ],
     "language": "python",
     "metadata": {},
     "outputs": [],
     "prompt_number": 2
    },
    {
     "cell_type": "heading",
     "level": 1,
     "metadata": {},
     "source": [
      "LargerThanLife"
     ]
    },
    {
     "cell_type": "markdown",
     "metadata": {},
     "source": [
      "LargerThanLife:\n",
      "\n",
      "- like Conway's game of life\n",
      "- larger than 3x3 neighborhood\n",
      "- totalistic cellular automaton (outer totalistic)"
     ]
    },
    {
     "cell_type": "markdown",
     "metadata": {},
     "source": [
      "LargerThanLife - Bugs:\n",
      "\n",
      "- 11x11 square neighborhood\n",
      "- 34...45 neighbors - generate new center\n",
      "- 34...58 neighbors - keep center\n",
      "- has sliders (horizontal, vertical, diagonal, curving)"
     ]
    },
    {
     "cell_type": "markdown",
     "metadata": {},
     "source": [
      "LargerThanLife implementation:\n",
      "\n",
      "- totalistic rules can be implemented via linear filters\n",
      "- `uniform_filter` returns \"average\", so we need to scale up to match bugs\n",
      "- filters are separable, allowing for faster implementation"
     ]
    },
    {
     "cell_type": "code",
     "collapsed": false,
     "input": [
      "def bugs(s):\n",
      "    a = array(s!=0,'f')\n",
      "    #MN: LtL counts also the middle cell \n",
      "    #n = floor(0.5+11*11*filters.uniform_filter(a,11,mode='wrap')-a)\n",
      "    n = floor(0.5+11*11*filters.uniform_filter(a,11,mode='wrap')  )\n",
      "    return 1.0*AND(n>=34,OR(n<=45,AND(n<=58,a)))\n",
      "\n",
      "_=animate(iterate(bugs,random(0.5)),2000)"
     ],
     "language": "python",
     "metadata": {},
     "outputs": [],
     "prompt_number": 3
    },
    {
     "cell_type": "markdown",
     "metadata": {},
     "source": [
      "For comparison, here is Conway's Game of Life using linear filters.\n",
      "\n"
     ]
    },
    {
     "cell_type": "code",
     "collapsed": false,
     "input": [
      "def life(s):\n",
      "    a = array(s!=0,'f')\n",
      "    n = floor(0.5+3*3*filters.uniform_filter(a,3,mode='wrap')-a)\n",
      "    return AND(n>=2,OR(n==3,AND(n<=3,a)))\n",
      "\n",
      "_=animate(iterate(life,random(0.5)),2000)"
     ],
     "language": "python",
     "metadata": {},
     "outputs": [],
     "prompt_number": 8
    },
    {
     "cell_type": "markdown",
     "metadata": {},
     "source": [
      "RealLife:\n",
      "\n",
      "- further generalization\n",
      "- let the neighborhood go to infinity\n",
      "- continuum limit\n",
      "- Pivato: _RealLife: the continuum limit of Larger Than Life cellular automata_\n",
      "- http://arxiv.org/abs/math.DS/0503504\n"
     ]
    }
   ],
   "metadata": {}
  }
 ]
}